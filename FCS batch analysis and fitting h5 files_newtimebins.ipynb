{
 "cells": [
  {
   "cell_type": "markdown",
   "metadata": {},
   "source": [
    "# Notebook for calculating correlations from .h5 files and average them"
   ]
  },
  {
   "cell_type": "markdown",
   "metadata": {},
   "source": [
    "## Insert folder name containing the .h5 files to analyze. "
   ]
  },
  {
   "cell_type": "code",
   "execution_count": 1,
   "metadata": {},
   "outputs": [],
   "source": [
    "FolderName = r'.'"
   ]
  },
  {
   "cell_type": "markdown",
   "metadata": {},
   "source": [
    "## Give a name for these data. "
   ]
  },
  {
   "cell_type": "code",
   "execution_count": 2,
   "metadata": {},
   "outputs": [],
   "source": [
    "name = r'measurement_1719588918.h5'"
   ]
  },
  {
   "cell_type": "markdown",
   "metadata": {},
   "source": [
    "## What do you want to correlate?\n",
    "\n",
    "### Possiblities are: 'donor', 'acceptor','cross'"
   ]
  },
  {
   "cell_type": "code",
   "execution_count": 3,
   "metadata": {},
   "outputs": [],
   "source": [
    "Channel = 'donor'"
   ]
  },
  {
   "cell_type": "markdown",
   "metadata": {},
   "source": [
    "## Loading standard things, do not change"
   ]
  },
  {
   "cell_type": "code",
   "execution_count": 4,
   "metadata": {},
   "outputs": [
    {
     "name": "stdout",
     "output_type": "stream",
     "text": [
      " - Optimized (cython) burst search loaded.\n",
      "--------------------------------------------------------------\n",
      " You are running FRETBursts (version 0.8.0.post0+g6b05a68.d20240601).\n",
      "\n",
      " If you use this software please cite the following paper:\n",
      "\n",
      "   FRETBursts: An Open Source Toolkit for Analysis of Freely-Diffusing Single-Molecule FRET\n",
      "   Ingargiola et al. (2016). http://dx.doi.org/10.1371/journal.pone.0160716 \n",
      "\n",
      "--------------------------------------------------------------\n"
     ]
    }
   ],
   "source": [
    "import numpy as np\n",
    "import matplotlib.pyplot as plt\n",
    "import os\n",
    "from scipy import optimize\n",
    "from fretbursts import *\n",
    "import pycorrelate as pyc\n",
    "# plt.style.use('seaborn-talk')\n",
    "import matplotlib.gridspec as gridspec"
   ]
  },
  {
   "cell_type": "markdown",
   "metadata": {},
   "source": [
    "## Find number .h5 of files in folder"
   ]
  },
  {
   "cell_type": "code",
   "execution_count": 5,
   "metadata": {},
   "outputs": [],
   "source": [
    "for file in os.listdir(FolderName):\n",
    "    if file.endswith('.h5'):\n",
    "        FileList = [os.path.join(FolderName, f) for f in os.listdir(FolderName) if f.endswith('.h5')]"
   ]
  },
  {
   "cell_type": "markdown",
   "metadata": {},
   "source": [
    "## Calculating the auto-correlations for each file and the average correlation"
   ]
  },
  {
   "cell_type": "code",
   "execution_count": 6,
   "metadata": {},
   "outputs": [
    {
     "name": "stdout",
     "output_type": "stream",
     "text": [
      "0.0002999999750000001\n"
     ]
    }
   ],
   "source": [
    "#Creating delay times in number of microtime units\n",
    "time_bins = np.concatenate([[0], np.logspace(-5,0,20)])\n",
    "\n",
    "\n",
    "for i, FileName in enumerate(FileList):\n",
    "    data = loader.photon_hdf5(FileName)\n",
    "    # extract the timestamps unit and create bins based on said uinit\n",
    "    if i == 0:\n",
    "        timestamps_unit = data.clk_p\n",
    "        bins = (time_bins / timestamps_unit).astype(int)\n",
    "        # in case any bins become identical due to integer conversion\n",
    "        mask_diff = np.concatenate([[True], np.diff(bins) != 0])\n",
    "        bins = bins[mask_diff]\n",
    "        # setup rest of arrays\n",
    "        G = np.zeros((len(bins)-1,len(FileList)))\n",
    "        Brightness=np.zeros(len(FileList))\n",
    "        Brightness_temp=np.zeros(len(FileList))\n",
    "\n",
    "    #data.add(det_donor_accept = (2, 0), alex_period = 4000, offset = 0, D_ON = (2, 4000), A_ON = (0, 1))\n",
    "    if data.alternated:\n",
    "        loader.alex_apply_period(data)\n",
    "    print(data.time_max*data.clk_p)\n",
    "    if Channel == 'donor':\n",
    "        FCS=data.get_ph_times(ph_sel=Ph_sel(Dex='Dem'))   # Time stamps donor excitation, donor emission\n",
    "        Brightness[i]=np.size(FCS)/data.time_max\n",
    "        G_temp = pyc.pcorrelate(FCS,FCS, bins, normalize=True)-1\n",
    "        G[:,i]=G_temp\n",
    "    elif Channel == 'acceptor':\n",
    "        FCS=data.get_ph_times(ph_sel=Ph_sel(Dex='Aem'))   # Time stamps acceptor excitation, acceptor emission\n",
    "        Brightness[index]=np.size(FCS)/data.time_max\n",
    "        G_temp = pyc.pcorrelate(FCS,FCS, bins, normalize=True)-1\n",
    "        G[:,i]=G_temp\n",
    "    elif Channel == 'cross':\n",
    "        FCS_donor=data.get_ph_times(ph_sel=Ph_sel(Dex='Dem'))   # Time stamps donor excitation, donor emission\n",
    "        FCS_acceptor=data.get_ph_times(ph_sel=Ph_sel(Dex='Aem'))   # Time stamps acceptor excitation, acceptor emission\n",
    "        Brightness[index]=np.size(FCS_donor)/data.time_max\n",
    "        G_temp = pyc.pcorrelate(FCS_donor,FCS_acceptor, bins, normalize=True)-1\n",
    "        G[:,i] = G_temp\n",
    "        \n",
    "averageFCS=np.mean(G,axis=1)\n",
    "averageBrightness=np.mean(Brightness)"
   ]
  },
  {
   "cell_type": "code",
   "execution_count": null,
   "metadata": {},
   "outputs": [],
   "source": [
    "plt.figure(figsize=(12,8))\n",
    "plt.plot(Brightness/1000,label='Average intensity')\n",
    "plt.xlabel(r'Measurement #',fontsize=25)\n",
    "plt.ylabel(r'Average intensity (kCnts/s)',fontsize=25)\n",
    "\n",
    "\n",
    "plt.show()"
   ]
  },
  {
   "cell_type": "code",
   "execution_count": null,
   "metadata": {},
   "outputs": [],
   "source": [
    "datasets=(0,1,2,3,4,5,6,7,8,9,10,11,12,13,14)"
   ]
  },
  {
   "cell_type": "code",
   "execution_count": null,
   "metadata": {},
   "outputs": [],
   "source": [
    "averageFCS=np.mean(G[:,datasets],axis=1)"
   ]
  },
  {
   "cell_type": "code",
   "execution_count": null,
   "metadata": {},
   "outputs": [],
   "source": [
    "fig, ax = plt.subplots(figsize=(12,8))\n",
    "ax.semilogx(np.mean([bins[1:], bins[:-1]], 0)*timestamps_unit,G[:,datasets],linewidth=1,label='Correlation')\n",
    "ax.semilogx(np.mean([bins[1:], bins[:-1]], 0)*timestamps_unit,averageFCS,color='black',linewidth=3,label='Average correlation')\n",
    "\n",
    "ax.set_xlabel(r'$\\tau$ (s)',fontsize=25)\n",
    "ax.set_ylabel(r'G',fontsize=25)\n",
    "ax.xaxis.set_tick_params(labelsize=16)\n",
    "ax.yaxis.set_tick_params(labelsize=16)\n",
    "#ax.set_xlim(0.01,1)\n",
    "#ax.set_ylim(0,0.1)\n",
    "\n",
    "\n",
    "#ax.legend()\n",
    "\n",
    "plt.show()"
   ]
  },
  {
   "cell_type": "code",
   "execution_count": null,
   "metadata": {},
   "outputs": [],
   "source": [
    "#Save the figure as a pdf\n",
    "fig.savefig(name + ' raw data.pdf', dpi=300, bbox_inches = 'tight')"
   ]
  },
  {
   "cell_type": "markdown",
   "metadata": {},
   "source": [
    "# Fitting correlation curves"
   ]
  },
  {
   "cell_type": "code",
   "execution_count": null,
   "metadata": {},
   "outputs": [],
   "source": [
    "#Standard model, only considering diffusion\n",
    "def FCS(t, Nmol, difftime, kappa):\n",
    "    return (1/Nmol) * (1 + (t/difftime))**(-1) * (1 + (t/((kappa**2)*difftime)))**(-0.5)"
   ]
  },
  {
   "cell_type": "code",
   "execution_count": null,
   "metadata": {},
   "outputs": [],
   "source": [
    "#Extended model where a triplet fraction is included\n",
    "def FCSTrip(t, N, difftime, kappa, Tfrac, triptime):\n",
    "    return (1/N) * (1 + (t/difftime))**(-1) * (1 + (t/((kappa**2)*difftime)))**(-0.5) * ((1 - Tfrac + Tfrac * np.exp(-(t/triptime))/(1-Tfrac)))"
   ]
  },
  {
   "cell_type": "code",
   "execution_count": null,
   "metadata": {},
   "outputs": [],
   "source": [
    "#Fitting the average correlation curve\n",
    "xdataFCS=np.mean([bins[1:], bins[:-1]], 0)*timestamps_unit\n",
    "\n",
    "#We only use the diffusion with triplet\n",
    "paramsFCS, params_covarianceFCS = optimize.curve_fit(FCSTrip, xdataFCS, averageFCS, p0=[np.round(1/averageFCS[0],2),75e-6,10,0.05,10e-6],method='lm')\n",
    "print(paramsFCS)\n",
    "\n",
    "print('Brightness =')\n",
    "print(np.round(averageBrightness/paramsFCS[0]))\n",
    "\n",
    "#Output format:\n",
    "#Triplet [Number of particles in confocal volume, Diffusion time (s), Aspect ratio, Triplet fraction, Triplet time (ms)]"
   ]
  },
  {
   "cell_type": "code",
   "execution_count": null,
   "metadata": {},
   "outputs": [],
   "source": [
    "figure1 = plt.figure(1, figsize=(10,10))\n",
    "gs = gridspec.GridSpec(2, 1, height_ratios=[1,0.25], figure=figure1)\n",
    "gs.update(left=0.05, right=0.95, bottom=0.05, top=0.95, wspace=0.02, hspace=0)\n",
    "\n",
    "#Plot the FCS data and fit\n",
    "ax1 = plt.subplot(gs[0,0])\n",
    "ax1.semilogx(xdataFCS, averageFCS, 'o', label='Average correlation',color='black')\n",
    "ax1.semilogx(xdataFCS,FCSTrip(xdataFCS, paramsFCS[0], paramsFCS[1],paramsFCS[2], paramsFCS[3], paramsFCS[4]),\n",
    "         label='Pure diffusion + Triplet',color='red')\n",
    "\n",
    "ax1.set_ylabel(r'G',fontsize=25)\n",
    "ax1.yaxis.set_tick_params(labelsize=16)\n",
    "ax1.set_xlabel(r' ') # Force this empty !\n",
    "ax1.set_xticklabels([]) # Force this empty !\n",
    "ax1.get_yaxis().set_label_coords(-0.12,0.5)\n",
    "\n",
    "\n",
    "ax1.text(10**(-2.75), 0.75*averageFCS[0], r'B = '+str(np.round(0.001*averageBrightness/paramsFCS[0],1))+' kCnts s$^-$$^1$ mol$^-$$^1$', fontsize=15)\n",
    "ax1.text(10**(-2.75), 0.68*averageFCS[0], r'N = '+ str(np.round(paramsFCS[0],1)), fontsize=15)\n",
    "ax1.text(10**(-2.75), 0.61*averageFCS[0], r'$\\kappa$ = '+ str(np.round(np.absolute(paramsFCS[2]),1)), fontsize=15)\n",
    "ax1.text(10**(-2.75), 0.54*averageFCS[0], r'$\\tau$$_D$ = '+ str(np.round(paramsFCS[1]*10**6,1))+' $\\mu$s', fontsize=15)\n",
    "ax1.text(10**(-2.75), 0.47*averageFCS[0], r'T = '+ str(np.round(paramsFCS[3],2)), fontsize=15)\n",
    "\n",
    "ax1.set_title(name)\n",
    "ax1.legend()\n",
    "\n",
    "\n",
    "#Plot the residuals\n",
    "ax2= plt.subplot(gs[1,0])\n",
    "ax2.semilogx(xdataFCS,(FCSTrip(xdataFCS, paramsFCS[0], paramsFCS[1],paramsFCS[2], paramsFCS[3], paramsFCS[4])-averageFCS),\n",
    "         label='Pure diffusion + Triplet',color='Red')\n",
    "\n",
    "ax2.set_xlabel(r'$\\tau$ (s)',fontsize=25)\n",
    "ax2.set_ylabel(r'Residuals',fontsize=25)\n",
    "ax2.xaxis.set_tick_params(labelsize=16)\n",
    "ax2.yaxis.set_tick_params(labelsize=16)\n",
    "ax2.get_yaxis().set_label_coords(-0.12,0.5)\n",
    "\n",
    "\n",
    "plt.show()"
   ]
  },
  {
   "cell_type": "code",
   "execution_count": null,
   "metadata": {},
   "outputs": [],
   "source": [
    "#Save the figure as a pdf\n",
    "figure1.savefig(name + '.pdf',dpi=300, bbox_inches = 'tight')"
   ]
  },
  {
   "cell_type": "markdown",
   "metadata": {},
   "source": [
    "# SPECIAL: Fitting with structural parameter fixed"
   ]
  },
  {
   "cell_type": "code",
   "execution_count": 7,
   "metadata": {},
   "outputs": [],
   "source": [
    "kappa_fixed = 10"
   ]
  },
  {
   "cell_type": "code",
   "execution_count": 8,
   "metadata": {},
   "outputs": [],
   "source": [
    "#Standard model, only considering diffusion\n",
    "def FCSfixed(t, Nmol, difftime):\n",
    "    return (1/Nmol) * (1 + (t/difftime))**(-1) * (1 + (t/((kappa_fixed**2)*difftime)))**(-0.5)"
   ]
  },
  {
   "cell_type": "code",
   "execution_count": 9,
   "metadata": {},
   "outputs": [],
   "source": [
    "#Extended model where a triplet fraction is included\n",
    "def FCSTripfixed(t, N, difftime, Tfrac, triptime):\n",
    "    return (1/N) * (1 + (t/difftime))**(-1) * (1 + (t/((kappa_fixed**2)*difftime)))**(-0.5) * ((1 - Tfrac + Tfrac * np.exp(-(t/triptime))/(1-Tfrac)))"
   ]
  },
  {
   "cell_type": "code",
   "execution_count": 10,
   "metadata": {},
   "outputs": [
    {
     "name": "stderr",
     "output_type": "stream",
     "text": [
      "/tmp/ipykernel_38721/3339592454.py:3: RuntimeWarning: overflow encountered in exp\n",
      "  return (1/N) * (1 + (t/difftime))**(-1) * (1 + (t/((kappa_fixed**2)*difftime)))**(-0.5) * ((1 - Tfrac + Tfrac * np.exp(-(t/triptime))/(1-Tfrac)))\n"
     ]
    },
    {
     "ename": "RuntimeError",
     "evalue": "Optimal parameters not found: Number of calls to function has reached maxfev = 1000.",
     "output_type": "error",
     "traceback": [
      "\u001b[0;31m---------------------------------------------------------------------------\u001b[0m",
      "\u001b[0;31mRuntimeError\u001b[0m                              Traceback (most recent call last)",
      "Cell \u001b[0;32mIn[10], line 5\u001b[0m\n\u001b[1;32m      2\u001b[0m xdataFCS\u001b[38;5;241m=\u001b[39mnp\u001b[38;5;241m.\u001b[39mmean([bins[\u001b[38;5;241m1\u001b[39m:], bins[:\u001b[38;5;241m-\u001b[39m\u001b[38;5;241m1\u001b[39m]], \u001b[38;5;241m0\u001b[39m)\u001b[38;5;241m*\u001b[39mtimestamps_unit\n\u001b[1;32m      4\u001b[0m \u001b[38;5;66;03m#We only use the diffusion with triplet\u001b[39;00m\n\u001b[0;32m----> 5\u001b[0m paramsFCSfixed, params_covarianceFCSfixed \u001b[38;5;241m=\u001b[39m \u001b[43moptimize\u001b[49m\u001b[38;5;241;43m.\u001b[39;49m\u001b[43mcurve_fit\u001b[49m\u001b[43m(\u001b[49m\u001b[43mFCSTripfixed\u001b[49m\u001b[43m,\u001b[49m\u001b[43m \u001b[49m\u001b[43mxdataFCS\u001b[49m\u001b[43m,\u001b[49m\u001b[43m \u001b[49m\u001b[43maverageFCS\u001b[49m\u001b[43m,\u001b[49m\u001b[43m \u001b[49m\u001b[43mp0\u001b[49m\u001b[38;5;241;43m=\u001b[39;49m\u001b[43m[\u001b[49m\u001b[43mnp\u001b[49m\u001b[38;5;241;43m.\u001b[39;49m\u001b[43mround\u001b[49m\u001b[43m(\u001b[49m\u001b[38;5;241;43m1\u001b[39;49m\u001b[38;5;241;43m/\u001b[39;49m\u001b[43maverageFCS\u001b[49m\u001b[43m[\u001b[49m\u001b[38;5;241;43m0\u001b[39;49m\u001b[43m]\u001b[49m\u001b[43m,\u001b[49m\u001b[38;5;241;43m2\u001b[39;49m\u001b[43m)\u001b[49m\u001b[43m,\u001b[49m\u001b[38;5;241;43m100e-6\u001b[39;49m\u001b[43m,\u001b[49m\u001b[38;5;241;43m0.1\u001b[39;49m\u001b[43m,\u001b[49m\u001b[38;5;241;43m10e-6\u001b[39;49m\u001b[43m]\u001b[49m\u001b[43m,\u001b[49m\u001b[43mmethod\u001b[49m\u001b[38;5;241;43m=\u001b[39;49m\u001b[38;5;124;43m'\u001b[39;49m\u001b[38;5;124;43mlm\u001b[39;49m\u001b[38;5;124;43m'\u001b[39;49m\u001b[43m)\u001b[49m\n\u001b[1;32m      6\u001b[0m \u001b[38;5;28mprint\u001b[39m(paramsFCSfixed)\n\u001b[1;32m      8\u001b[0m \u001b[38;5;28mprint\u001b[39m(\u001b[38;5;124m'\u001b[39m\u001b[38;5;124mBrightness =\u001b[39m\u001b[38;5;124m'\u001b[39m)\n",
      "File \u001b[0;32m~/anaconda3/envs/test_py310/lib/python3.10/site-packages/scipy/optimize/_minpack_py.py:1005\u001b[0m, in \u001b[0;36mcurve_fit\u001b[0;34m(f, xdata, ydata, p0, sigma, absolute_sigma, check_finite, bounds, method, jac, full_output, nan_policy, **kwargs)\u001b[0m\n\u001b[1;32m   1003\u001b[0m     cost \u001b[38;5;241m=\u001b[39m np\u001b[38;5;241m.\u001b[39msum(infodict[\u001b[38;5;124m'\u001b[39m\u001b[38;5;124mfvec\u001b[39m\u001b[38;5;124m'\u001b[39m] \u001b[38;5;241m*\u001b[39m\u001b[38;5;241m*\u001b[39m \u001b[38;5;241m2\u001b[39m)\n\u001b[1;32m   1004\u001b[0m     \u001b[38;5;28;01mif\u001b[39;00m ier \u001b[38;5;129;01mnot\u001b[39;00m \u001b[38;5;129;01min\u001b[39;00m [\u001b[38;5;241m1\u001b[39m, \u001b[38;5;241m2\u001b[39m, \u001b[38;5;241m3\u001b[39m, \u001b[38;5;241m4\u001b[39m]:\n\u001b[0;32m-> 1005\u001b[0m         \u001b[38;5;28;01mraise\u001b[39;00m \u001b[38;5;167;01mRuntimeError\u001b[39;00m(\u001b[38;5;124m\"\u001b[39m\u001b[38;5;124mOptimal parameters not found: \u001b[39m\u001b[38;5;124m\"\u001b[39m \u001b[38;5;241m+\u001b[39m errmsg)\n\u001b[1;32m   1006\u001b[0m \u001b[38;5;28;01melse\u001b[39;00m:\n\u001b[1;32m   1007\u001b[0m     \u001b[38;5;66;03m# Rename maxfev (leastsq) to max_nfev (least_squares), if specified.\u001b[39;00m\n\u001b[1;32m   1008\u001b[0m     \u001b[38;5;28;01mif\u001b[39;00m \u001b[38;5;124m'\u001b[39m\u001b[38;5;124mmax_nfev\u001b[39m\u001b[38;5;124m'\u001b[39m \u001b[38;5;129;01mnot\u001b[39;00m \u001b[38;5;129;01min\u001b[39;00m kwargs:\n",
      "\u001b[0;31mRuntimeError\u001b[0m: Optimal parameters not found: Number of calls to function has reached maxfev = 1000."
     ]
    }
   ],
   "source": [
    "#Fitting the average correlation curve\n",
    "xdataFCS=np.mean([bins[1:], bins[:-1]], 0)*timestamps_unit\n",
    "\n",
    "#We only use the diffusion with triplet\n",
    "paramsFCSfixed, params_covarianceFCSfixed = optimize.curve_fit(FCSTripfixed, xdataFCS, averageFCS, p0=[np.round(1/averageFCS[0],2),100e-6,0.1,10e-6],method='lm')\n",
    "print(paramsFCSfixed)\n",
    "\n",
    "print('Brightness =')\n",
    "print(np.round(averageBrightness/paramsFCSfixed[0]))\n",
    "\n",
    "#Output format:\n",
    "#Triplet [Number of particles in confocal volume, Diffusion time (s), Aspect ratio, Triplet fraction, Triplet time (ms)]"
   ]
  },
  {
   "cell_type": "code",
   "execution_count": 11,
   "metadata": {},
   "outputs": [
    {
     "ename": "NameError",
     "evalue": "name 'paramsFCSfixed' is not defined",
     "output_type": "error",
     "traceback": [
      "\u001b[0;31m---------------------------------------------------------------------------\u001b[0m",
      "\u001b[0;31mNameError\u001b[0m                                 Traceback (most recent call last)",
      "Cell \u001b[0;32mIn[11], line 8\u001b[0m\n\u001b[1;32m      6\u001b[0m ax1 \u001b[38;5;241m=\u001b[39m plt\u001b[38;5;241m.\u001b[39msubplot(gs[\u001b[38;5;241m0\u001b[39m,\u001b[38;5;241m0\u001b[39m])\n\u001b[1;32m      7\u001b[0m ax1\u001b[38;5;241m.\u001b[39msemilogx(xdataFCS, averageFCS, \u001b[38;5;124m'\u001b[39m\u001b[38;5;124mo\u001b[39m\u001b[38;5;124m'\u001b[39m, label\u001b[38;5;241m=\u001b[39m\u001b[38;5;124m'\u001b[39m\u001b[38;5;124mAverage correlation\u001b[39m\u001b[38;5;124m'\u001b[39m,color\u001b[38;5;241m=\u001b[39m\u001b[38;5;124m'\u001b[39m\u001b[38;5;124mblack\u001b[39m\u001b[38;5;124m'\u001b[39m)\n\u001b[0;32m----> 8\u001b[0m ax1\u001b[38;5;241m.\u001b[39msemilogx(xdataFCS,FCSTripfixed(xdataFCS, \u001b[43mparamsFCSfixed\u001b[49m[\u001b[38;5;241m0\u001b[39m], paramsFCSfixed[\u001b[38;5;241m1\u001b[39m],paramsFCSfixed[\u001b[38;5;241m2\u001b[39m], paramsFCSfixed[\u001b[38;5;241m3\u001b[39m]),\n\u001b[1;32m      9\u001b[0m          label\u001b[38;5;241m=\u001b[39m\u001b[38;5;124m'\u001b[39m\u001b[38;5;124mPure diffusion + Triplet, $\u001b[39m\u001b[38;5;124m\\\u001b[39m\u001b[38;5;124mkappa$ is fixed\u001b[39m\u001b[38;5;124m'\u001b[39m,color\u001b[38;5;241m=\u001b[39m\u001b[38;5;124m'\u001b[39m\u001b[38;5;124mblue\u001b[39m\u001b[38;5;124m'\u001b[39m)\n\u001b[1;32m     11\u001b[0m ax1\u001b[38;5;241m.\u001b[39mset_ylabel(\u001b[38;5;124mr\u001b[39m\u001b[38;5;124m'\u001b[39m\u001b[38;5;124mG\u001b[39m\u001b[38;5;124m'\u001b[39m,fontsize\u001b[38;5;241m=\u001b[39m\u001b[38;5;241m25\u001b[39m)\n\u001b[1;32m     12\u001b[0m ax1\u001b[38;5;241m.\u001b[39myaxis\u001b[38;5;241m.\u001b[39mset_tick_params(labelsize\u001b[38;5;241m=\u001b[39m\u001b[38;5;241m16\u001b[39m)\n",
      "\u001b[0;31mNameError\u001b[0m: name 'paramsFCSfixed' is not defined"
     ]
    },
    {
     "data": {
      "image/png": "[encoded data removed]",
      "text/plain": [
       "<Figure size 1000x1000 with 1 Axes>"
      ]
     },
     "metadata": {},
     "output_type": "display_data"
    }
   ],
   "source": [
    "figure2 = plt.figure(1, figsize=(10,10))\n",
    "gs = gridspec.GridSpec(2, 1, height_ratios=[1,0.25], figure=figure2)\n",
    "gs.update(left=0.05, right=0.95, bottom=0.05, top=0.95, wspace=0.02, hspace=0)\n",
    "\n",
    "#Plot the FCS data and fit\n",
    "ax1 = plt.subplot(gs[0,0])\n",
    "ax1.semilogx(xdataFCS, averageFCS, 'o', label='Average correlation',color='black')\n",
    "ax1.semilogx(xdataFCS,FCSTripfixed(xdataFCS, paramsFCSfixed[0], paramsFCSfixed[1],paramsFCSfixed[2], paramsFCSfixed[3]),\n",
    "         label='Pure diffusion + Triplet, $\\kappa$ is fixed',color='blue')\n",
    "\n",
    "ax1.set_ylabel(r'G',fontsize=25)\n",
    "ax1.yaxis.set_tick_params(labelsize=16)\n",
    "ax1.set_xlabel(r' ') # Force this empty !\n",
    "ax1.set_xticklabels([]) # Force this empty !\n",
    "ax1.get_yaxis().set_label_coords(-0.12,0.5)\n",
    "\n",
    "#Add parameters to plot\n",
    "ax1.text(10**(-2.75), 0.75*averageFCS[0], r'B = '+str(np.round(0.001*averageBrightness/paramsFCSfixed[0]))+' kCnts s$^-$$^1$ mol$^-$$^1$', fontsize=15)\n",
    "ax1.text(10**(-2.75), 0.68*averageFCS[0], r'N = '+ str(np.round(paramsFCSfixed[0],1)), fontsize=15)\n",
    "ax1.text(10**(-2.75), 0.61*averageFCS[0], r'$\\kappa$ = '+ str(kappa_fixed)+' (fixed)', fontsize=15)\n",
    "ax1.text(10**(-2.75), 0.54*averageFCS[0], r'$\\tau$$_D$ = '+ str(np.round(paramsFCSfixed[1]*10**6,1))+' $\\mu$s', fontsize=15)\n",
    "ax1.text(10**(-2.75), 0.47*averageFCS[0], r'T = '+ str(np.round(paramsFCSfixed[2],2)), fontsize=15)\n",
    "\n",
    "ax1.set_title(name)\n",
    "ax1.legend()\n",
    "\n",
    "\n",
    "#Plot the residuals\n",
    "ax2= plt.subplot(gs[1,0])\n",
    "ax2.semilogx(xdataFCS,FCSTripfixed(xdataFCS, paramsFCSfixed[0], paramsFCSfixed[1],paramsFCSfixed[2], paramsFCSfixed[3])-averageFCS,\n",
    "         label=r'Pure diffusion + Triplet fixed $\\kappa$',color='blue')\n",
    "\n",
    "\n",
    "ax2.set_xlabel(r'$\\tau$ (s)',fontsize=25)\n",
    "ax2.set_ylabel(r'Residuals',fontsize=25)\n",
    "ax2.xaxis.set_tick_params(labelsize=16)\n",
    "ax2.yaxis.set_tick_params(labelsize=16)\n",
    "ax2.get_yaxis().set_label_coords(-0.12,0.5)\n",
    "\n",
    "\n",
    "plt.show()"
   ]
  },
  {
   "cell_type": "code",
   "execution_count": 226,
   "metadata": {},
   "outputs": [],
   "source": [
    "#Save the figure as a pdf\n",
    "figure2.savefig(name + ' kappa fixed.pdf',dpi=300, bbox_inches = 'tight')"
   ]
  },
  {
   "cell_type": "code",
   "execution_count": null,
   "metadata": {},
   "outputs": [],
   "source": []
  }
 ],
 "metadata": {
  "kernelspec": {
   "display_name": "Python 3",
   "language": "python",
   "name": "python3"
  },
  "language_info": {
   "codemirror_mode": {
    "name": "ipython",
    "version": 3
   },
   "file_extension": ".py",
   "mimetype": "text/x-python",
   "name": "python",
   "nbconvert_exporter": "python",
   "pygments_lexer": "ipython3",
   "version": "3.8.8"
  }
 },
 "nbformat": 4,
 "nbformat_minor": 4
}
